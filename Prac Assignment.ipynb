{
 "cells": [
  {
   "cell_type": "markdown",
   "id": "91628315-ea68-4dbc-8124-117935eb95ba",
   "metadata": {},
   "source": [
    "1. Write a Python program to print \"Hello, World\"!"
   ]
  },
  {
   "cell_type": "code",
   "execution_count": 3,
   "id": "e2e4ca8e-d361-4edc-98b1-de1095601fe0",
   "metadata": {},
   "outputs": [
    {
     "name": "stdout",
     "output_type": "stream",
     "text": [
      "Hello, World!\n"
     ]
    }
   ],
   "source": [
    "print(\"Hello, World!\")"
   ]
  },
  {
   "cell_type": "markdown",
   "id": "c2eb50d4-5285-4fea-acc6-e08c45fb1530",
   "metadata": {},
   "source": [
    "2. Write a Python program that displays your name and age"
   ]
  },
  {
   "cell_type": "code",
   "execution_count": 1,
   "id": "5895a435-3565-41a7-9084-d65199fe1c98",
   "metadata": {},
   "outputs": [
    {
     "name": "stdin",
     "output_type": "stream",
     "text": [
      "Enter your name:  Deval\n",
      "Enter your age:  24\n"
     ]
    },
    {
     "name": "stdout",
     "output_type": "stream",
     "text": [
      "Your name is: Deval\n",
      "Your age is: 24\n"
     ]
    }
   ],
   "source": [
    "\n",
    "name = input(\"Enter your name: \")\n",
    "age = input(\"Enter your age: \")\n",
    "\n",
    "print(\"Your name is:\", name)\n",
    "print(\"Your age is:\", age)\n"
   ]
  },
  {
   "cell_type": "markdown",
   "id": "eead7031-1ba9-4445-99f8-c7184a16b7ea",
   "metadata": {},
   "source": [
    "3. Write code to print all the pre-defined keywords in Python using the keyword library."
   ]
  },
  {
   "cell_type": "code",
   "execution_count": 3,
   "id": "cd99e474-41bb-430e-9b7e-00ff23facddf",
   "metadata": {},
   "outputs": [
    {
     "name": "stdout",
     "output_type": "stream",
     "text": [
      "Python Keywords are:\n",
      "False\n",
      "None\n",
      "True\n",
      "and\n",
      "as\n",
      "assert\n",
      "async\n",
      "await\n",
      "break\n",
      "class\n",
      "continue\n",
      "def\n",
      "del\n",
      "elif\n",
      "else\n",
      "except\n",
      "finally\n",
      "for\n",
      "from\n",
      "global\n",
      "if\n",
      "import\n",
      "in\n",
      "is\n",
      "lambda\n",
      "nonlocal\n",
      "not\n",
      "or\n",
      "pass\n",
      "raise\n",
      "return\n",
      "try\n",
      "while\n",
      "with\n",
      "yield\n"
     ]
    }
   ],
   "source": [
    "import keyword\n",
    "keywords_list = keyword.kwlist\n",
    "print(\"Python Keywords are:\")\n",
    "for kw in keywords_list:\n",
    "    print(kw)\n"
   ]
  },
  {
   "cell_type": "markdown",
   "id": "47bb1ee4-49ef-4556-b1b8-b1a1b679dc51",
   "metadata": {},
   "source": [
    "4. Write a program that checks if a given word is a Python keyword."
   ]
  },
  {
   "cell_type": "code",
   "execution_count": 7,
   "id": "3699baef-308a-4fee-bc87-0bad10187f69",
   "metadata": {},
   "outputs": [
    {
     "name": "stdin",
     "output_type": "stream",
     "text": [
      "Enter a word:  return\n"
     ]
    },
    {
     "name": "stdout",
     "output_type": "stream",
     "text": [
      "'return' is a Python keyword.\n"
     ]
    }
   ],
   "source": [
    "import keyword\n",
    "\n",
    "word = input(\"Enter a word: \")\n",
    "\n",
    "if keyword.iskeyword(word):\n",
    "    print(f\"'{word}' is a Python keyword.\")\n",
    "else:\n",
    "    print(f\"'{word}' is NOT a Python keyword.\")\n"
   ]
  },
  {
   "cell_type": "markdown",
   "id": "a0c10c0e-d076-4a00-be42-c4de8288031e",
   "metadata": {},
   "source": [
    "5. Create a list and tuple in Python, and demonstrate how attempting to change an element works differently for each."
   ]
  },
  {
   "cell_type": "code",
   "execution_count": 12,
   "id": "f2ec2133-3e24-43f6-b5f1-2805a59d5b18",
   "metadata": {},
   "outputs": [
    {
     "name": "stdout",
     "output_type": "stream",
     "text": [
      "Original List: [1, 2, 3]\n",
      "Modified List: [10, 2, 3]\n",
      "Original Tuple: (1, 2, 3)\n",
      "Tuples cannot be changed because they are immutable.\n"
     ]
    }
   ],
   "source": [
    "my_list = [1, 2, 3]\n",
    "print(\"Original List:\", my_list)\n",
    "\n",
    "my_list[0] = 10\n",
    "print(\"Modified List:\", my_list)\n",
    "\n",
    "my_tuple = (1, 2, 3)\n",
    "print(\"Original Tuple:\", my_tuple)\n",
    "\n",
    "print(\"Tuples cannot be changed because they are immutable.\")\n",
    "\n"
   ]
  },
  {
   "cell_type": "markdown",
   "id": "0a23f633-6074-4599-a580-b9c1a7f075fb",
   "metadata": {},
   "source": [
    " 6. Write a function to demonstrate the behavior of mutable and immutable arguments."
   ]
  },
  {
   "cell_type": "code",
   "execution_count": 13,
   "id": "99d17329-acb8-4d35-9c9c-d72870eaf4fb",
   "metadata": {},
   "outputs": [
    {
     "name": "stdout",
     "output_type": "stream",
     "text": [
      "Before function call - number: 5\n",
      "Before function call - numbers_list: [1, 2, 3]\n",
      "Inside function - num: 15\n",
      "Inside function - my_list: [1, 2, 3, 100]\n",
      "After function call - number: 5\n",
      "After function call - numbers_list: [1, 2, 3, 100]\n"
     ]
    }
   ],
   "source": [
    "def change_values(num, my_list):\n",
    "    num = num + 10        \n",
    "    my_list.append(100)    \n",
    "    print(\"Inside function - num:\", num)\n",
    "    print(\"Inside function - my_list:\", my_list)\n",
    "\n",
    "number = 5\n",
    "numbers_list = [1, 2, 3]\n",
    "\n",
    "print(\"Before function call - number:\", number)\n",
    "print(\"Before function call - numbers_list:\", numbers_list)\n",
    "\n",
    "change_values(number, numbers_list)\n",
    "\n",
    "print(\"After function call - number:\", number)          \n",
    "print(\"After function call - numbers_list:\", numbers_list)  \n",
    "\n"
   ]
  },
  {
   "cell_type": "markdown",
   "id": "0b3b0592-4f9f-4b4a-a903-396ed59d3986",
   "metadata": {},
   "source": [
    "7. Write a program that performs basic arithmetic operations on two user-input numbers."
   ]
  },
  {
   "cell_type": "code",
   "execution_count": 11,
   "id": "7ba63c5b-e15e-4c66-85b1-0096d895fb61",
   "metadata": {},
   "outputs": [
    {
     "name": "stdin",
     "output_type": "stream",
     "text": [
      "Enter first number:  13\n",
      "Enter second number:  245\n"
     ]
    },
    {
     "name": "stdout",
     "output_type": "stream",
     "text": [
      "Addition: 258.0\n",
      "Subtraction: -232.0\n",
      "Multiplication: 3185.0\n",
      "Division: 0.053061224489795916\n"
     ]
    }
   ],
   "source": [
    "num1 = float(input(\"Enter first number: \"))\n",
    "num2 = float(input(\"Enter second number: \"))\n",
    "\n",
    "addition = num1 + num2\n",
    "subtraction = num1 - num2\n",
    "multiplication = num1 * num2\n",
    "division = num1 / num2 \n",
    "\n",
    "print(\"Addition:\", addition)\n",
    "print(\"Subtraction:\", subtraction)\n",
    "print(\"Multiplication:\", multiplication)\n",
    "print(\"Division:\", division)\n",
    "\n"
   ]
  },
  {
   "cell_type": "markdown",
   "id": "7b487515-1ca9-49d0-a404-d2e4b1b73228",
   "metadata": {},
   "source": [
    "8. Write a program to demonstrate the use of logical operators."
   ]
  },
  {
   "cell_type": "code",
   "execution_count": 18,
   "id": "206fc185-2f35-4764-a290-56578a621bd4",
   "metadata": {},
   "outputs": [
    {
     "name": "stdin",
     "output_type": "stream",
     "text": [
      "Enter first number:  20\n",
      "Enter second number:  -3\n"
     ]
    },
    {
     "name": "stdout",
     "output_type": "stream",
     "text": [
      "At least one number is positive.\n"
     ]
    }
   ],
   "source": [
    "a = int(input(\"Enter first number: \"))\n",
    "b = int(input(\"Enter second number: \"))\n",
    "\n",
    "if a > 0 and b > 0:\n",
    "    print(\"Both numbers are positive.\")\n",
    "\n",
    "if a > 0 or b > 0:\n",
    "    print(\"At least one number is positive.\")\n",
    "\n",
    "if not (a > 0):\n",
    "    print(\"First number is NOT positive.\")\n",
    "\n",
    "\n"
   ]
  },
  {
   "cell_type": "markdown",
   "id": "98287fd9-3879-4b15-8d42-54a657a28f0d",
   "metadata": {},
   "source": [
    "9. Write a Python program to convert user input from string to integer, float, and boolean types"
   ]
  },
  {
   "cell_type": "code",
   "execution_count": 19,
   "id": "c4770aee-7e26-457f-af61-a1cca93cfa63",
   "metadata": {},
   "outputs": [
    {
     "name": "stdin",
     "output_type": "stream",
     "text": [
      "Enter something:  12\n"
     ]
    },
    {
     "name": "stdout",
     "output_type": "stream",
     "text": [
      "Integer value: 12\n",
      "Float value: 12.0\n",
      "Boolean value: True\n"
     ]
    }
   ],
   "source": [
    "user_input = input(\"Enter something: \")\n",
    "\n",
    "int_value = int(user_input)\n",
    "print(\"Integer value:\", int_value)\n",
    "\n",
    "float_value = float(user_input)\n",
    "print(\"Float value:\", float_value)\n",
    "\n",
    "bool_value = bool(user_input)\n",
    "print(\"Boolean value:\", bool_value)\n"
   ]
  },
  {
   "cell_type": "markdown",
   "id": "543b726a-448d-481c-a45d-689c7751b746",
   "metadata": {},
   "source": [
    "10. Write code to demonstrate type casting with list elements."
   ]
  },
  {
   "cell_type": "code",
   "execution_count": 20,
   "id": "4e4784a7-6e8d-4294-b075-ee669ba11cc0",
   "metadata": {},
   "outputs": [
    {
     "name": "stdout",
     "output_type": "stream",
     "text": [
      "Original list (strings): ['10', '20', '30', '40']\n",
      "List after type casting to integers: [10, 20, 30, 40]\n"
     ]
    }
   ],
   "source": [
    "my_list = ['10', '20', '30', '40']\n",
    "\n",
    "print(\"Original list (strings):\", my_list)\n",
    "\n",
    "int_list = []\n",
    "\n",
    "for item in my_list:\n",
    "    int_item = int(item)  \n",
    "    int_list.append(int_item)\n",
    "\n",
    "print(\"List after type casting to integers:\", int_list)\n"
   ]
  },
  {
   "cell_type": "markdown",
   "id": "52e5dab2-20d8-4e9f-bd96-851bf5c0b98e",
   "metadata": {},
   "source": [
    "11. Write a program that checks if a number is positive, negative, or zero."
   ]
  },
  {
   "cell_type": "code",
   "execution_count": 21,
   "id": "010a4afa-572e-4aec-90d2-31d1cad93f7f",
   "metadata": {},
   "outputs": [
    {
     "name": "stdin",
     "output_type": "stream",
     "text": [
      "Enter a number:  12\n"
     ]
    },
    {
     "name": "stdout",
     "output_type": "stream",
     "text": [
      "The number is positive.\n"
     ]
    }
   ],
   "source": [
    "num = float(input(\"Enter a number: \"))\n",
    "\n",
    "if num > 0:\n",
    "    print(\"The number is positive.\")\n",
    "elif num < 0:\n",
    "    print(\"The number is negative.\")\n",
    "else:\n",
    "    print(\"The number is zero.\")\n"
   ]
  },
  {
   "cell_type": "markdown",
   "id": "d32248c8-b6a3-4ba3-bfd7-8feb8a4d5c34",
   "metadata": {},
   "source": [
    "12. Write a for loop to print numbers from 1 to 10."
   ]
  },
  {
   "cell_type": "code",
   "execution_count": 22,
   "id": "7299ef08-a32c-4846-bbb1-a0589767baa1",
   "metadata": {},
   "outputs": [
    {
     "name": "stdout",
     "output_type": "stream",
     "text": [
      "1\n",
      "2\n",
      "3\n",
      "4\n",
      "5\n",
      "6\n",
      "7\n",
      "8\n",
      "9\n",
      "10\n"
     ]
    }
   ],
   "source": [
    "for i in range(1, 11):\n",
    "    print(i)\n"
   ]
  },
  {
   "cell_type": "markdown",
   "id": "a7c1c6ea-eab0-454b-b7db-87bc3fa22188",
   "metadata": {},
   "source": [
    "13. Write a Python program to find the sum of all even numbers between 1 and 50."
   ]
  },
  {
   "cell_type": "code",
   "execution_count": 23,
   "id": "0eafabfb-07e1-425c-bab8-45ce24e076f9",
   "metadata": {},
   "outputs": [
    {
     "name": "stdout",
     "output_type": "stream",
     "text": [
      "Sum of all even numbers between 1 and 50 is: 650\n"
     ]
    }
   ],
   "source": [
    "total = 0\n",
    "\n",
    "for num in range(1, 51):\n",
    "    if num % 2 == 0:\n",
    "        total = total + num  \n",
    "\n",
    "print(\"Sum of all even numbers between 1 and 50 is:\", total)\n"
   ]
  },
  {
   "cell_type": "markdown",
   "id": "58e6a43e-8d52-4a39-9310-21cd66e091cd",
   "metadata": {},
   "source": [
    "14. Write a program to reverse a string using a while loop."
   ]
  },
  {
   "cell_type": "code",
   "execution_count": 24,
   "id": "5dbae4d2-ad71-4f11-b2dd-bd91d2e60e07",
   "metadata": {},
   "outputs": [
    {
     "name": "stdin",
     "output_type": "stream",
     "text": [
      "Enter a string:  devfdfjkmhjdjhg\n"
     ]
    },
    {
     "name": "stdout",
     "output_type": "stream",
     "text": [
      "Reversed string is: ghjdjhmkjfdfved\n"
     ]
    }
   ],
   "source": [
    "original_str = input(\"Enter a string: \")\n",
    "\n",
    "reversed_str = \"\"\n",
    "index = len(original_str) - 1  \n",
    "\n",
    "while index >= 0:\n",
    "    reversed_str = reversed_str + original_str[index]\n",
    "    index = index - 1\n",
    "\n",
    "print(\"Reversed string is:\", reversed_str)\n"
   ]
  },
  {
   "cell_type": "markdown",
   "id": "c5276678-4e83-4519-a98d-8c82f6a41f45",
   "metadata": {},
   "source": [
    "15. Write a Python program to calculate the factorial of a number provided by the user using a while loop"
   ]
  },
  {
   "cell_type": "code",
   "execution_count": 28,
   "id": "81a7cc99-f97f-4e96-8c7c-1bd8f1b0468c",
   "metadata": {},
   "outputs": [
    {
     "name": "stdin",
     "output_type": "stream",
     "text": [
      "Enter a integer:  5\n"
     ]
    },
    {
     "name": "stdout",
     "output_type": "stream",
     "text": [
      "Factorial of 5 is: 120\n"
     ]
    }
   ],
   "source": [
    "num = int(input(\"Enter a integer: \"))\n",
    "\n",
    "factorial = 1\n",
    "count = num\n",
    "\n",
    "while count > 1:\n",
    "    factorial = factorial * count\n",
    "    count = count - 1\n",
    "\n",
    "print(f\"Factorial of {num} is: {factorial}\")\n"
   ]
  }
 ],
 "metadata": {
  "kernelspec": {
   "display_name": "Python 3 (ipykernel)",
   "language": "python",
   "name": "python3"
  },
  "language_info": {
   "codemirror_mode": {
    "name": "ipython",
    "version": 3
   },
   "file_extension": ".py",
   "mimetype": "text/x-python",
   "name": "python",
   "nbconvert_exporter": "python",
   "pygments_lexer": "ipython3",
   "version": "3.12.7"
  }
 },
 "nbformat": 4,
 "nbformat_minor": 5
}
