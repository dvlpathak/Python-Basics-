{
 "cells": [
  {
   "cell_type": "raw",
   "id": "97c90e09-4195-4f1b-8051-763de7fb4872",
   "metadata": {},
   "source": [
    "Write a Python program to print \"Hello, World\"!"
   ]
  },
  {
   "cell_type": "code",
   "execution_count": 3,
   "id": "e2e4ca8e-d361-4edc-98b1-de1095601fe0",
   "metadata": {},
   "outputs": [
    {
     "name": "stdout",
     "output_type": "stream",
     "text": [
      "Hello, World!\n"
     ]
    }
   ],
   "source": [
    "print(\"Hello, World!\")"
   ]
  },
  {
   "cell_type": "raw",
   "id": "a52e8722-9ace-4850-8949-646e2d846718",
   "metadata": {},
   "source": [
    "Write a Python program that displays your name and age"
   ]
  },
  {
   "cell_type": "code",
   "execution_count": 1,
   "id": "5895a435-3565-41a7-9084-d65199fe1c98",
   "metadata": {},
   "outputs": [
    {
     "name": "stdin",
     "output_type": "stream",
     "text": [
      "Enter your name:  Deval\n",
      "Enter your age:  24\n"
     ]
    },
    {
     "name": "stdout",
     "output_type": "stream",
     "text": [
      "Your name is: Deval\n",
      "Your age is: 24\n"
     ]
    }
   ],
   "source": [
    "# Get user input\n",
    "name = input(\"Enter your name: \")\n",
    "age = input(\"Enter your age: \")\n",
    "\n",
    "# Display the result\n",
    "print(\"Your name is:\", name)\n",
    "print(\"Your age is:\", age)\n"
   ]
  },
  {
   "cell_type": "raw",
   "id": "ea9ee1d6-572a-4058-8195-7006cf64a380",
   "metadata": {},
   "source": [
    "Write code to print all the pre-defined keywords in Python using the keyword library."
   ]
  },
  {
   "cell_type": "code",
   "execution_count": 3,
   "id": "cd99e474-41bb-430e-9b7e-00ff23facddf",
   "metadata": {},
   "outputs": [
    {
     "name": "stdout",
     "output_type": "stream",
     "text": [
      "Python Keywords are:\n",
      "False\n",
      "None\n",
      "True\n",
      "and\n",
      "as\n",
      "assert\n",
      "async\n",
      "await\n",
      "break\n",
      "class\n",
      "continue\n",
      "def\n",
      "del\n",
      "elif\n",
      "else\n",
      "except\n",
      "finally\n",
      "for\n",
      "from\n",
      "global\n",
      "if\n",
      "import\n",
      "in\n",
      "is\n",
      "lambda\n",
      "nonlocal\n",
      "not\n",
      "or\n",
      "pass\n",
      "raise\n",
      "return\n",
      "try\n",
      "while\n",
      "with\n",
      "yield\n"
     ]
    }
   ],
   "source": [
    "import keyword\n",
    "keywords_list = keyword.kwlist\n",
    "print(\"Python Keywords are:\")\n",
    "for kw in keywords_list:\n",
    "    print(kw)\n"
   ]
  },
  {
   "cell_type": "raw",
   "id": "54a8fbbe-7830-4891-9289-593fd252c681",
   "metadata": {},
   "source": [
    "Write a program that checks if a given word is a Python keyword."
   ]
  },
  {
   "cell_type": "code",
   "execution_count": 7,
   "id": "3699baef-308a-4fee-bc87-0bad10187f69",
   "metadata": {},
   "outputs": [
    {
     "name": "stdin",
     "output_type": "stream",
     "text": [
      "Enter a word:  return\n"
     ]
    },
    {
     "name": "stdout",
     "output_type": "stream",
     "text": [
      "'return' is a Python keyword.\n"
     ]
    }
   ],
   "source": [
    "import keyword\n",
    "\n",
    "word = input(\"Enter a word: \")\n",
    "\n",
    "if keyword.iskeyword(word):\n",
    "    print(f\"'{word}' is a Python keyword.\")\n",
    "else:\n",
    "    print(f\"'{word}' is NOT a Python keyword.\")\n"
   ]
  },
  {
   "cell_type": "raw",
   "id": "e90c07b2-82d1-48cd-8d68-795bfc495aed",
   "metadata": {},
   "source": [
    "Create a list and tuple in Python, and demonstrate how attempting to change an element works differently\n",
    "for each."
   ]
  },
  {
   "cell_type": "code",
   "execution_count": 12,
   "id": "f2ec2133-3e24-43f6-b5f1-2805a59d5b18",
   "metadata": {},
   "outputs": [
    {
     "name": "stdout",
     "output_type": "stream",
     "text": [
      "Original List: [1, 2, 3]\n",
      "Modified List: [10, 2, 3]\n",
      "Original Tuple: (1, 2, 3)\n",
      "Tuples cannot be changed because they are immutable.\n"
     ]
    }
   ],
   "source": [
    "my_list = [1, 2, 3]\n",
    "print(\"Original List:\", my_list)\n",
    "\n",
    "my_list[0] = 10\n",
    "print(\"Modified List:\", my_list)\n",
    "\n",
    "my_tuple = (1, 2, 3)\n",
    "print(\"Original Tuple:\", my_tuple)\n",
    "\n",
    "print(\"Tuples cannot be changed because they are immutable.\")\n",
    "\n"
   ]
  },
  {
   "cell_type": "raw",
   "id": "ed2b31d2-f5ff-4491-a89e-4701d281bce3",
   "metadata": {},
   "source": [
    " Write a function to demonstrate the behavior of mutable and immutable arguments."
   ]
  },
  {
   "cell_type": "code",
   "execution_count": 13,
   "id": "99d17329-acb8-4d35-9c9c-d72870eaf4fb",
   "metadata": {},
   "outputs": [
    {
     "name": "stdout",
     "output_type": "stream",
     "text": [
      "Before function call - number: 5\n",
      "Before function call - numbers_list: [1, 2, 3]\n",
      "Inside function - num: 15\n",
      "Inside function - my_list: [1, 2, 3, 100]\n",
      "After function call - number: 5\n",
      "After function call - numbers_list: [1, 2, 3, 100]\n"
     ]
    }
   ],
   "source": [
    "def change_values(num, my_list):\n",
    "    num = num + 10        \n",
    "    my_list.append(100)    \n",
    "    print(\"Inside function - num:\", num)\n",
    "    print(\"Inside function - my_list:\", my_list)\n",
    "\n",
    "number = 5\n",
    "numbers_list = [1, 2, 3]\n",
    "\n",
    "print(\"Before function call - number:\", number)\n",
    "print(\"Before function call - numbers_list:\", numbers_list)\n",
    "\n",
    "change_values(number, numbers_list)\n",
    "\n",
    "print(\"After function call - number:\", number)          \n",
    "print(\"After function call - numbers_list:\", numbers_list)  \n",
    "\n"
   ]
  },
  {
   "cell_type": "raw",
   "id": "748a7083-04f7-4646-b96d-2169ed7e5fda",
   "metadata": {},
   "source": [
    " Write a program that performs basic arithmetic operations on two user-input numbers."
   ]
  },
  {
   "cell_type": "code",
   "execution_count": 11,
   "id": "7ba63c5b-e15e-4c66-85b1-0096d895fb61",
   "metadata": {},
   "outputs": [
    {
     "name": "stdin",
     "output_type": "stream",
     "text": [
      "Enter first number:  13\n",
      "Enter second number:  245\n"
     ]
    },
    {
     "name": "stdout",
     "output_type": "stream",
     "text": [
      "Addition: 258.0\n",
      "Subtraction: -232.0\n",
      "Multiplication: 3185.0\n",
      "Division: 0.053061224489795916\n"
     ]
    }
   ],
   "source": [
    "num1 = float(input(\"Enter first number: \"))\n",
    "num2 = float(input(\"Enter second number: \"))\n",
    "\n",
    "addition = num1 + num2\n",
    "subtraction = num1 - num2\n",
    "multiplication = num1 * num2\n",
    "division = num1 / num2 \n",
    "\n",
    "print(\"Addition:\", addition)\n",
    "print(\"Subtraction:\", subtraction)\n",
    "print(\"Multiplication:\", multiplication)\n",
    "print(\"Division:\", division)\n",
    "\n"
   ]
  },
  {
   "cell_type": "raw",
   "id": "5cd9d56b-97fa-4a4b-af7c-2865bdb16d71",
   "metadata": {},
   "source": [
    " Write a program to demonstrate the use of logical operators."
   ]
  },
  {
   "cell_type": "code",
   "execution_count": 18,
   "id": "206fc185-2f35-4764-a290-56578a621bd4",
   "metadata": {},
   "outputs": [
    {
     "name": "stdin",
     "output_type": "stream",
     "text": [
      "Enter first number:  20\n",
      "Enter second number:  -3\n"
     ]
    },
    {
     "name": "stdout",
     "output_type": "stream",
     "text": [
      "At least one number is positive.\n"
     ]
    }
   ],
   "source": [
    "a = int(input(\"Enter first number: \"))\n",
    "b = int(input(\"Enter second number: \"))\n",
    "\n",
    "if a > 0 and b > 0:\n",
    "    print(\"Both numbers are positive.\")\n",
    "\n",
    "if a > 0 or b > 0:\n",
    "    print(\"At least one number is positive.\")\n",
    "\n",
    "if not (a > 0):\n",
    "    print(\"First number is NOT positive.\")\n",
    "\n",
    "\n"
   ]
  },
  {
   "cell_type": "raw",
   "id": "bf2effcd-6b3c-4b3d-8eda-721d7398f9f7",
   "metadata": {},
   "source": [
    " Write a Python program to convert user input from string to integer, float, and boolean types"
   ]
  },
  {
   "cell_type": "code",
   "execution_count": 19,
   "id": "c4770aee-7e26-457f-af61-a1cca93cfa63",
   "metadata": {},
   "outputs": [
    {
     "name": "stdin",
     "output_type": "stream",
     "text": [
      "Enter something:  12\n"
     ]
    },
    {
     "name": "stdout",
     "output_type": "stream",
     "text": [
      "Integer value: 12\n",
      "Float value: 12.0\n",
      "Boolean value: True\n"
     ]
    }
   ],
   "source": [
    "user_input = input(\"Enter something: \")\n",
    "\n",
    "int_value = int(user_input)\n",
    "print(\"Integer value:\", int_value)\n",
    "\n",
    "float_value = float(user_input)\n",
    "print(\"Float value:\", float_value)\n",
    "\n",
    "bool_value = bool(user_input)\n",
    "print(\"Boolean value:\", bool_value)\n"
   ]
  },
  {
   "cell_type": "raw",
   "id": "eba35801-1b13-4543-9e50-ddc73f9069b2",
   "metadata": {},
   "source": [
    "Write code to demonstrate type casting with list elements."
   ]
  },
  {
   "cell_type": "code",
   "execution_count": 20,
   "id": "4e4784a7-6e8d-4294-b075-ee669ba11cc0",
   "metadata": {},
   "outputs": [
    {
     "name": "stdout",
     "output_type": "stream",
     "text": [
      "Original list (strings): ['10', '20', '30', '40']\n",
      "List after type casting to integers: [10, 20, 30, 40]\n"
     ]
    }
   ],
   "source": [
    "my_list = ['10', '20', '30', '40']\n",
    "\n",
    "print(\"Original list (strings):\", my_list)\n",
    "\n",
    "int_list = []\n",
    "\n",
    "for item in my_list:\n",
    "    int_item = int(item)  \n",
    "    int_list.append(int_item)\n",
    "\n",
    "print(\"List after type casting to integers:\", int_list)\n"
   ]
  },
  {
   "cell_type": "raw",
   "id": "0d626e52-0dc5-4881-8692-9d04785c3e41",
   "metadata": {},
   "source": [
    "Write a program that checks if a number is positive, negative, or zero."
   ]
  },
  {
   "cell_type": "code",
   "execution_count": 21,
   "id": "010a4afa-572e-4aec-90d2-31d1cad93f7f",
   "metadata": {},
   "outputs": [
    {
     "name": "stdin",
     "output_type": "stream",
     "text": [
      "Enter a number:  12\n"
     ]
    },
    {
     "name": "stdout",
     "output_type": "stream",
     "text": [
      "The number is positive.\n"
     ]
    }
   ],
   "source": [
    "num = float(input(\"Enter a number: \"))\n",
    "\n",
    "if num > 0:\n",
    "    print(\"The number is positive.\")\n",
    "elif num < 0:\n",
    "    print(\"The number is negative.\")\n",
    "else:\n",
    "    print(\"The number is zero.\")\n"
   ]
  },
  {
   "cell_type": "raw",
   "id": "f091aec6-5175-48ec-bbe5-20e4cca45a91",
   "metadata": {},
   "source": [
    " Write a for loop to print numbers from 1 to 10."
   ]
  },
  {
   "cell_type": "code",
   "execution_count": 22,
   "id": "7299ef08-a32c-4846-bbb1-a0589767baa1",
   "metadata": {},
   "outputs": [
    {
     "name": "stdout",
     "output_type": "stream",
     "text": [
      "1\n",
      "2\n",
      "3\n",
      "4\n",
      "5\n",
      "6\n",
      "7\n",
      "8\n",
      "9\n",
      "10\n"
     ]
    }
   ],
   "source": [
    "for i in range(1, 11):\n",
    "    print(i)\n"
   ]
  },
  {
   "cell_type": "raw",
   "id": "0f65c534-2c9a-4e32-a3b5-e219337e1efd",
   "metadata": {},
   "source": [
    " Write a Python program to find the sum of all even numbers between 1 and 50."
   ]
  },
  {
   "cell_type": "code",
   "execution_count": 23,
   "id": "0eafabfb-07e1-425c-bab8-45ce24e076f9",
   "metadata": {},
   "outputs": [
    {
     "name": "stdout",
     "output_type": "stream",
     "text": [
      "Sum of all even numbers between 1 and 50 is: 650\n"
     ]
    }
   ],
   "source": [
    "total = 0\n",
    "\n",
    "for num in range(1, 51):\n",
    "    if num % 2 == 0:\n",
    "        total = total + num  \n",
    "\n",
    "print(\"Sum of all even numbers between 1 and 50 is:\", total)\n"
   ]
  },
  {
   "cell_type": "raw",
   "id": "f1676cca-16cd-48af-ac9e-f8a007226717",
   "metadata": {},
   "source": [
    "Write a program to reverse a string using a while loop."
   ]
  },
  {
   "cell_type": "code",
   "execution_count": 24,
   "id": "5dbae4d2-ad71-4f11-b2dd-bd91d2e60e07",
   "metadata": {},
   "outputs": [
    {
     "name": "stdin",
     "output_type": "stream",
     "text": [
      "Enter a string:  devfdfjkmhjdjhg\n"
     ]
    },
    {
     "name": "stdout",
     "output_type": "stream",
     "text": [
      "Reversed string is: ghjdjhmkjfdfved\n"
     ]
    }
   ],
   "source": [
    "original_str = input(\"Enter a string: \")\n",
    "\n",
    "reversed_str = \"\"\n",
    "index = len(original_str) - 1  \n",
    "\n",
    "while index >= 0:\n",
    "    reversed_str = reversed_str + original_str[index]\n",
    "    index = index - 1\n",
    "\n",
    "print(\"Reversed string is:\", reversed_str)\n"
   ]
  },
  {
   "cell_type": "raw",
   "id": "4252199e-1ea0-49a3-8e2c-440a5047f0e1",
   "metadata": {},
   "source": [
    "Write a Python program to calculate the factorial of a number provided by the user using a while loop"
   ]
  },
  {
   "cell_type": "code",
   "execution_count": 28,
   "id": "81a7cc99-f97f-4e96-8c7c-1bd8f1b0468c",
   "metadata": {},
   "outputs": [
    {
     "name": "stdin",
     "output_type": "stream",
     "text": [
      "Enter a integer:  5\n"
     ]
    },
    {
     "name": "stdout",
     "output_type": "stream",
     "text": [
      "Factorial of 5 is: 120\n"
     ]
    }
   ],
   "source": [
    "num = int(input(\"Enter a integer: \"))\n",
    "\n",
    "factorial = 1\n",
    "count = num\n",
    "\n",
    "while count > 1:\n",
    "    factorial = factorial * count\n",
    "    count = count - 1\n",
    "\n",
    "print(f\"Factorial of {num} is: {factorial}\")\n"
   ]
  },
  {
   "cell_type": "code",
   "execution_count": null,
   "id": "89aff58e-d38b-481c-aa76-ab2389366fc0",
   "metadata": {},
   "outputs": [],
   "source": []
  }
 ],
 "metadata": {
  "kernelspec": {
   "display_name": "Python 3 (ipykernel)",
   "language": "python",
   "name": "python3"
  },
  "language_info": {
   "codemirror_mode": {
    "name": "ipython",
    "version": 3
   },
   "file_extension": ".py",
   "mimetype": "text/x-python",
   "name": "python",
   "nbconvert_exporter": "python",
   "pygments_lexer": "ipython3",
   "version": "3.12.7"
  }
 },
 "nbformat": 4,
 "nbformat_minor": 5
}
